{
 "cells": [
  {
   "cell_type": "code",
   "execution_count": 2,
   "id": "f24751da-00a8-46fa-9d86-7d63470a4592",
   "metadata": {},
   "outputs": [],
   "source": [
    "from os import environ\n",
    "from selenium.webdriver import Remote, ChromeOptions as Options\n",
    "from selenium.webdriver.chromium.remote_connection import ChromiumRemoteConnection as Connection\n",
    "from bs4 import BeautifulSoup"
   ]
  },
  {
   "cell_type": "code",
   "execution_count": 3,
   "id": "0b90ca25-ffe0-45f6-ba31-3d753bc1c96f",
   "metadata": {},
   "outputs": [],
   "source": [
    "# AUTH = environ.get('AUTH', default='USER:PASS')\n",
    "AUTH = \"brd-customer-hl_94679ef3-zone-scraping_browser1:sflz39c9g431\"\n",
    "\n",
    "def scrape(url=None):\n",
    "    if AUTH == 'USER:PASS':\n",
    "        raise Exception('Provide Scraping Browsers credentials in AUTH ' +\n",
    "                        'environment variable or update the script.')\n",
    "    print('Connecting to Browser...')\n",
    "    server_addr = f'https://{AUTH}@brd.superproxy.io:9515'\n",
    "    connection = Connection(server_addr, 'goog', 'chrome')\n",
    "    driver = Remote(connection, options=Options())\n",
    "    try:\n",
    "        print(f'Connected! Navigating to {url}...')\n",
    "        driver.get(url)\n",
    "        print('Navigated! Waiting captcha to detect and solve...')\n",
    "        result = driver.execute('executeCdpCommand', {\n",
    "            'cmd': 'Captcha.waitForSolve',\n",
    "            'params': {'detectTimeout': 10 * 1000},\n",
    "        })\n",
    "        status = result['value']['status']\n",
    "        print(f'Captcha status: {status}')\n",
    "        data = driver.page_source\n",
    "        return data\n",
    "    finally:\n",
    "        driver.quit()"
   ]
  },
  {
   "cell_type": "code",
   "execution_count": 4,
   "id": "14acee51-4a26-437d-808e-de093350331a",
   "metadata": {},
   "outputs": [
    {
     "name": "stdout",
     "output_type": "stream",
     "text": [
      "Connecting to Browser...\n",
      "Connected! Navigating to https://www.amazon.in/Apple-iPhone-13-128GB-Midnight/dp/B09G9HD6PD/ref=sr_1_1_sspa?crid=1KFEUPWN68RH&dib=eyJ2IjoiMSJ9.OCoJgZ8ghdguKvc7Ozmt3OyY3JIh2zh_9fXQPStOsFy5Gz9e2PbRJTLGIEpMmwnd9CVu_0AItnBKvK-Pq77gJAGlvlx3e9LCxkoBYj-AnFwlKgPYS58nL9_c7GNmqKuQcFPd0jyb08BNHDi_dh3FMtkU8OU0Qb9aEVfOPXgKt_O5U4yKqWrCID5IfTLted4P7JG6oZGx02NxuiqQj-Lk5-SUpHJeRXDa8_iFZw28XnTHLgxL3IvbOJPM4QFz5w0SXLMVp9Y3PZ-5JgAmjJSGouoKhAeLMUieTk_qpLjNdVI.mBsJGwDqlheBtYUa2AxA-YWkpGWLSF998HFKT3My270&dib_tag=se&keywords=iphone&qid=1728475253&s=electronics&sprefix=ihon%2Celectronics%2C354&sr=1-1-spons&sp_csd=d2lkZ2V0TmFtZT1zcF9hdGY&psc=1...\n",
      "Navigated! Waiting captcha to detect and solve...\n",
      "Captcha status: solve_finished\n"
     ]
    }
   ],
   "source": [
    "url = \"https://www.amazon.in/Apple-iPhone-13-128GB-Midnight/dp/B09G9HD6PD/ref=sr_1_1_sspa?crid=1KFEUPWN68RH&dib=eyJ2IjoiMSJ9.OCoJgZ8ghdguKvc7Ozmt3OyY3JIh2zh_9fXQPStOsFy5Gz9e2PbRJTLGIEpMmwnd9CVu_0AItnBKvK-Pq77gJAGlvlx3e9LCxkoBYj-AnFwlKgPYS58nL9_c7GNmqKuQcFPd0jyb08BNHDi_dh3FMtkU8OU0Qb9aEVfOPXgKt_O5U4yKqWrCID5IfTLted4P7JG6oZGx02NxuiqQj-Lk5-SUpHJeRXDa8_iFZw28XnTHLgxL3IvbOJPM4QFz5w0SXLMVp9Y3PZ-5JgAmjJSGouoKhAeLMUieTk_qpLjNdVI.mBsJGwDqlheBtYUa2AxA-YWkpGWLSF998HFKT3My270&dib_tag=se&keywords=iphone&qid=1728475253&s=electronics&sprefix=ihon%2Celectronics%2C354&sr=1-1-spons&sp_csd=d2lkZ2V0TmFtZT1zcF9hdGY&psc=1\"\n",
    "html = scrape(url=url)"
   ]
  },
  {
   "cell_type": "code",
   "execution_count": 5,
   "id": "5a7c1e2c-be5a-4e4d-b06b-bc0d1f759c36",
   "metadata": {},
   "outputs": [],
   "source": [
    "# import setup\n",
    "# setup.init_django(project_name=\"dcs\")"
   ]
  },
  {
   "cell_type": "code",
   "execution_count": 6,
   "id": "b5ea7b35-e016-4045-bc14-124a5ecd2efe",
   "metadata": {},
   "outputs": [],
   "source": [
    "soup = BeautifulSoup(html)"
   ]
  },
  {
   "cell_type": "code",
   "execution_count": 7,
   "id": "937c730d-8dba-4027-8673-110ebd780f29",
   "metadata": {},
   "outputs": [
    {
     "data": {
      "text/plain": [
       "'Apple iPhone 13 (128GB) - Midnight'"
      ]
     },
     "execution_count": 7,
     "metadata": {},
     "output_type": "execute_result"
    }
   ],
   "source": [
    "productTitle = soup.find('span', id='productTitle')\n",
    "productTitleText = f\"{productTitle.text}\".strip()\n",
    "productTitleText"
   ]
  },
  {
   "cell_type": "code",
   "execution_count": 8,
   "id": "26526090-73f6-4002-b007-b5ae243a9b04",
   "metadata": {},
   "outputs": [
    {
     "data": {
      "text/plain": [
       "42999.0"
      ]
     },
     "execution_count": 8,
     "metadata": {},
     "output_type": "execute_result"
    }
   ],
   "source": [
    "productPrice = soup.find_all('span', class_='a-price-whole')[0]\n",
    "productPriceText = \"\".join([x for x in f\"{productPrice.text}\".strip() if x.isdigit() or x == '.'])\n",
    "productPriceNum = float(productPriceText)\n",
    "productPriceNum"
   ]
  },
  {
   "cell_type": "code",
   "execution_count": 18,
   "id": "666dcb36-dea5-435b-a461-c06c6cbc79fd",
   "metadata": {},
   "outputs": [],
   "source": [
    "# product_data = soup.find('div', id='prodDetails')\n",
    "# table = product_data.find('table')\n",
    "# columns = [f\"{x.text}\".strip() for x in table.find_all('th')]"
   ]
  },
  {
   "cell_type": "code",
   "execution_count": 22,
   "id": "83cbaf9b-aa6a-4f70-aa9c-8c0e26ede76a",
   "metadata": {},
   "outputs": [],
   "source": [
    "# table_data=[]\n",
    "# for i, row in enumerate(table.find_all('tr')):\n",
    "#     cells = row.find_all('td')\n",
    "#     row_data = {columns[i]: f'{cell.text}'.strip() for cell in cells}\n",
    "#     table_data.append(row_data)"
   ]
  },
  {
   "cell_type": "code",
   "execution_count": 24,
   "id": "e80230f6-210d-437e-9d50-c5526a0c43f9",
   "metadata": {},
   "outputs": [],
   "source": [
    "# table_data"
   ]
  },
  {
   "cell_type": "code",
   "execution_count": 26,
   "id": "4a3a1f17-bdf2-429f-b5cc-6648c9f67cb8",
   "metadata": {},
   "outputs": [
    {
     "data": {
      "text/plain": [
       "['B09G9HD6PD']"
      ]
     },
     "execution_count": 26,
     "metadata": {},
     "output_type": "execute_result"
    }
   ],
   "source": [
    "elements_with_attribute = soup.find_all(lambda tag: tag.has_attr('data-csa-c-asin'))\n",
    "asins = [x.attrs.get('data-csa-c-asin') for x in elements_with_attribute if x]\n",
    "asins = list(set([x for x in asins if x != \"\"]))\n",
    "asins"
   ]
  },
  {
   "cell_type": "code",
   "execution_count": 30,
   "id": "5ea63f49-771a-4e7b-8604-d129f3937cad",
   "metadata": {},
   "outputs": [],
   "source": [
    "# productDescription = soup.find('div', id='productDescription').text\n",
    "# productDescription"
   ]
  },
  {
   "cell_type": "code",
   "execution_count": 28,
   "id": "356c105d-d312-4f03-9db7-cf41c235ccc7",
   "metadata": {},
   "outputs": [
    {
     "data": {
      "text/plain": [
       "' \\n About this item    15 cm (6.1-inch) Super Retina XDR display    Cinematic mode adds shallow depth of field and shifts focus automatically in your videos    Advanced dual-camera system with 12MP Wide and Ultra Wide cameras; Photographic Styles, Smart HDR 4, Night mode, 4K Dolby Vision HDR recording    12MP TrueDepth front camera with Night mode, 4K Dolby Vision HDR recording    A15 Bionic chip for lightning-fast performance    \\n ›  See more product details   '"
      ]
     },
     "execution_count": 28,
     "metadata": {},
     "output_type": "execute_result"
    }
   ],
   "source": [
    "featureBullets = soup.find('div', id='feature-bullets').text\n",
    "featureBullets"
   ]
  },
  {
   "cell_type": "code",
   "execution_count": 32,
   "id": "c89e28c4-965a-4725-99aa-22c54a6e0620",
   "metadata": {},
   "outputs": [
    {
     "data": {
      "text/plain": [
       "4.5"
      ]
     },
     "execution_count": 32,
     "metadata": {},
     "output_type": "execute_result"
    }
   ],
   "source": [
    "average_rating = soup.find(id='averageCustomerReviews').find_all(\"span\", class_='a-size-base')[0].text.strip()\n",
    "average_rating = \"\".join([x for x in f\"{average_rating}\".strip() if x.isdigit() or x == '.'])\n",
    "average_rating = float(average_rating)\n",
    "average_rating"
   ]
  },
  {
   "cell_type": "code",
   "execution_count": 34,
   "id": "45f1f3ea-9e35-4773-8ea0-a41e9f155031",
   "metadata": {},
   "outputs": [
    {
     "data": {
      "text/plain": [
       "29850"
      ]
     },
     "execution_count": 34,
     "metadata": {},
     "output_type": "execute_result"
    }
   ],
   "source": [
    "rating_data = soup.find(id='acrCustomerReviewText').text\n",
    "rating_count = int(''.join([x for x in rating_data if x.isdigit()]))\n",
    "rating_count"
   ]
  },
  {
   "cell_type": "code",
   "execution_count": null,
   "id": "5fb8ab6c-b843-4e97-80f7-deb57edce6e6",
   "metadata": {},
   "outputs": [],
   "source": []
  }
 ],
 "metadata": {
  "kernelspec": {
   "display_name": "Python 3 (ipykernel)",
   "language": "python",
   "name": "python3"
  },
  "language_info": {
   "codemirror_mode": {
    "name": "ipython",
    "version": 3
   },
   "file_extension": ".py",
   "mimetype": "text/x-python",
   "name": "python",
   "nbconvert_exporter": "python",
   "pygments_lexer": "ipython3",
   "version": "3.12.4"
  }
 },
 "nbformat": 4,
 "nbformat_minor": 5
}
